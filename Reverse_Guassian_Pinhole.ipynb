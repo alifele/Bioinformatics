{
  "nbformat": 4,
  "nbformat_minor": 0,
  "metadata": {
    "colab": {
      "name": "Reverse Guassian Pinhole.ipynb",
      "provenance": [],
      "authorship_tag": "ABX9TyM3OrLHtO/ufqDFaIbGsge6",
      "include_colab_link": true
    },
    "kernelspec": {
      "name": "python3",
      "display_name": "Python 3"
    },
    "language_info": {
      "name": "python"
    }
  },
  "cells": [
    {
      "cell_type": "markdown",
      "metadata": {
        "id": "view-in-github",
        "colab_type": "text"
      },
      "source": [
        "<a href=\"https://colab.research.google.com/github/alifele/Bioinformatics-OpticalCNNwithFourierOptics/blob/master/Reverse_Guassian_Pinhole.ipynb\" target=\"_parent\"><img src=\"https://colab.research.google.com/assets/colab-badge.svg\" alt=\"Open In Colab\"/></a>"
      ]
    },
    {
      "cell_type": "code",
      "metadata": {
        "id": "2kUugsMR_I-g"
      },
      "source": [
        "import numpy as np\n",
        "import matplotlib.pyplot as plt"
      ],
      "execution_count": 1,
      "outputs": []
    },
    {
      "cell_type": "code",
      "metadata": {
        "id": "-MdbE60G_a2g"
      },
      "source": [
        "def guass(sigma, image_size, center): #image_size = [227,227], center=[113,113]\n",
        "  x = np.arange(0,image_size[0])\n",
        "  y = np.arange(0,image_size[1])\n",
        "  X,Y = np.meshgrid(x,y)\n",
        "  r2 = (X-center[0])**2 + (Y-center[1])**2\n",
        "  return np.exp( -0.5*(r2/sigma**2) )"
      ],
      "execution_count": 69,
      "outputs": []
    },
    {
      "cell_type": "code",
      "metadata": {
        "id": "z4EBlmqS_ODT"
      },
      "source": [
        "image_size = [227,227]"
      ],
      "execution_count": 70,
      "outputs": []
    },
    {
      "cell_type": "code",
      "metadata": {
        "colab": {
          "base_uri": "https://localhost:8080/"
        },
        "id": "d4r4ppmD_QNw",
        "outputId": "269fd0a6-73c6-4093-f851-b6d13995dec6"
      },
      "source": [
        "center = [image_size[0]//2, image_size[1]//2]\n",
        "center"
      ],
      "execution_count": 71,
      "outputs": [
        {
          "output_type": "execute_result",
          "data": {
            "text/plain": [
              "[113, 113]"
            ]
          },
          "metadata": {
            "tags": []
          },
          "execution_count": 71
        }
      ]
    },
    {
      "cell_type": "code",
      "metadata": {
        "id": "1WMpgxK0A5Fn"
      },
      "source": [
        "guass_mask = guass(10, image_size, center)\n",
        "reverse_guass = 1-guass_mask"
      ],
      "execution_count": 72,
      "outputs": []
    },
    {
      "cell_type": "code",
      "metadata": {
        "colab": {
          "base_uri": "https://localhost:8080/",
          "height": 286
        },
        "id": "AJwrTCTeBCtB",
        "outputId": "65a06a52-aa51-4337-9bcf-de7f7e6d3685"
      },
      "source": [
        "plt.imshow(guass_mask)\n",
        "plt.colorbar()"
      ],
      "execution_count": 73,
      "outputs": [
        {
          "output_type": "execute_result",
          "data": {
            "text/plain": [
              "<matplotlib.colorbar.Colorbar at 0x7f0237a63dd0>"
            ]
          },
          "metadata": {
            "tags": []
          },
          "execution_count": 73
        },
        {
          "output_type": "display_data",
          "data": {
            "image/png": "[encoded data removed]",
            "text/plain": [
              "<Figure size 432x288 with 2 Axes>"
            ]
          },
          "metadata": {
            "tags": [],
            "needs_background": "light"
          }
        }
      ]
    },
    {
      "cell_type": "code",
      "metadata": {
        "colab": {
          "base_uri": "https://localhost:8080/",
          "height": 286
        },
        "id": "mb5o5eQNBF-o",
        "outputId": "83062ba1-c124-4d8c-d099-bf3735515785"
      },
      "source": [
        "plt.imshow(reverse_guass)\n",
        "plt.colorbar()"
      ],
      "execution_count": 74,
      "outputs": [
        {
          "output_type": "execute_result",
          "data": {
            "text/plain": [
              "<matplotlib.colorbar.Colorbar at 0x7f023796ab10>"
            ]
          },
          "metadata": {
            "tags": []
          },
          "execution_count": 74
        },
        {
          "output_type": "display_data",
          "data": {
            "image/png": "[encoded data removed]",
            "text/plain": [
              "<Figure size 432x288 with 2 Axes>"
            ]
          },
          "metadata": {
            "tags": [],
            "needs_background": "light"
          }
        }
      ]
    },
    {
      "cell_type": "code",
      "metadata": {
        "id": "K03_5AEwC-G5"
      },
      "source": [
        ""
      ],
      "execution_count": 59,
      "outputs": []
    },
    {
      "cell_type": "code",
      "metadata": {
        "id": "NuhOwcMsDDwS"
      },
      "source": [
        ""
      ],
      "execution_count": null,
      "outputs": []
    }
  ]
}