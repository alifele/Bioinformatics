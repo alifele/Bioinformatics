{
  "nbformat": 4,
  "nbformat_minor": 0,
  "metadata": {
    "colab": {
      "name": "SA Simulation.ipynb",
      "provenance": [],
      "collapsed_sections": [],
      "authorship_tag": "ABX9TyMsdrdaB3gRoNkFecAFImx1",
      "include_colab_link": true
    },
    "kernelspec": {
      "name": "python3",
      "display_name": "Python 3"
    },
    "language_info": {
      "name": "python"
    }
  },
  "cells": [
    {
      "cell_type": "markdown",
      "metadata": {
        "id": "view-in-github",
        "colab_type": "text"
      },
      "source": [
        "<a href=\"https://colab.research.google.com/github/alifele/Bioinformatics-OpticalCNNwithFourierOptics/blob/master/SA_Simulation.ipynb\" target=\"_parent\"><img src=\"https://colab.research.google.com/assets/colab-badge.svg\" alt=\"Open In Colab\"/></a>"
      ]
    },
    {
      "cell_type": "code",
      "metadata": {
        "id": "gFp_pNqwwsyb"
      },
      "source": [
        "import numpy as np\n",
        "import matplotlib.pyplot as plt"
      ],
      "execution_count": 10,
      "outputs": []
    },
    {
      "cell_type": "code",
      "metadata": {
        "id": "1zu_Z7o8w0jj"
      },
      "source": [
        "class SA:\n",
        "  def __init__(self, initial_values, normalized=True):\n",
        "\n",
        "    if normalized == True:\n",
        "      self.initNormalizedValues(initial_values)\n",
        "    else:\n",
        "      self.initNonNormalizedValues(initial_values)\n",
        "\n",
        "\n",
        "    self.n0List = []\n",
        "    self.n1List = []\n",
        "    self.n2List = []\n",
        "\n",
        "\n",
        "  def initNonNormalizedValues(self, initial_values):\n",
        "    self.alpha = initial_values[\"sigma12\"]/initial_values[\"sigma01\"]\n",
        "    self.beta = initial_values[\"sigma23\"]/initial_values[\"sigma01\"]\n",
        "    self.T10 = initial_values[\"tau_p\"]/initial_values[\"tau_10\"]\n",
        "    self.T21 = initial_values[\"tau_p\"]/initial_values[\"tau_21\"]\n",
        "    self.A = initial_values[\"sigma01\"]*initial_values[\"I0\"]*initial_values[\"tau_p\"]/(h_bar*omega)\n",
        "    self.Phi = self.A * initial_values[\"f\"](0)\n",
        "\n",
        "    self.N = initial_values[\"N0\"]+initial_values[\"N1\"]+initial_values[\"N2\"]\n",
        "    self.n0 = initial_values[\"N0\"]/self.N\n",
        "    self.n1 = initial_values[\"N1\"]/self.N\n",
        "    self.n2 = initial_values[\"n3\"]/self.N\n",
        "\n",
        "    self.n0_temp = 0\n",
        "    self.n1_temp = 0\n",
        "    self.n2_temp = 0\n",
        "\n",
        "    self.dT = initial_values[\"dT\"]\n",
        "    self.dZ = initial_values[\"dZ\"]\n",
        "    self.simulationTimeSteps= initial_values['simulationTimeSteps']\n",
        "    self.simulationDepthSteps= intial_values['simulationDepthSteps']\n",
        "\n",
        "\n",
        "  def initNormalizedValues(self, initial_values):\n",
        "    self.alpha = initial_values[\"alpha\"]\n",
        "    self.beta = initial_values[\"beta\"]\n",
        "    self.T10 = initial_values[\"T10\"]\n",
        "    self.T21 = initial_values[\"T21\"]\n",
        "    self.A = initial_values[\"A\"]\n",
        "    self.Phi = self.A * initial_values[\"f\"](0)\n",
        "\n",
        "    self.n0 = initial_values[\"n0\"]\n",
        "    self.n1 = initial_values[\"n1\"]\n",
        "    self.n2 = initial_values[\"n2\"]\n",
        "\n",
        "    self.n0_temp = 0\n",
        "    self.n1_temp = 0\n",
        "    self.n2_temp = 0\n",
        "\n",
        "    self.dT = initial_values[\"dT\"]\n",
        "    self.dZ = initial_values[\"dZ\"]\n",
        "    self.simulationTimeSteps= initial_values['simulationTimeSteps']\n",
        "    self.simulationDepthSteps= intial_values['simulationDepthSteps']\n",
        "\n",
        "\n",
        "\n",
        "  def simulate(self):\n",
        "    for i in range(self.simulationTimeSteps):\n",
        "      self.appendAll()\n",
        "      self.iterate_n0()\n",
        "      self.iterate_n1()\n",
        "      self.iterate_n2()\n",
        "      self.update_ns()\n",
        "      #self.iterate_Phi()\n",
        "\n",
        "    return np.array(self.n0List),np.array(self.n1List),np.array(self.n2List)\n",
        "\n",
        "  def appendAll(self):\n",
        "    self.n0List.append(self.n0)\n",
        "    self.n1List.append(self.n1)\n",
        "    self.n2List.append(self.n2)\n",
        "\n",
        "  def update_ns(self):\n",
        "    self.n0 = self.n0_temp\n",
        "    self.n1 = self.n1_temp\n",
        "    self.n2 = self.n2_temp\n",
        "\n",
        "  def iterate_n0(self):\n",
        "    coeff = np.array([-self.Phi, self.T10])\n",
        "    var = np.array([self.n0, self.n1])\n",
        "    self.n0_temp = self.Euler_solver(coeff, var, self.dT, self.n0)\n",
        "\n",
        "  def iterate_n1(self):\n",
        "    coeff = np.array([self.Phi, -(self.alpha*self.Phi+self.T10), self.T21])\n",
        "    var = np.array([self.n0, self.n1, self.n2])\n",
        "    self.n1_temp = self.Euler_solver(coeff, var, self.dT, self.n1)\n",
        "\n",
        "  def iterate_n2(self):\n",
        "    coeff = np.array([self.alpha*self.Phi, -self.T21])\n",
        "    var = np.array([self.n0, self.n2])\n",
        "    self.n2_temp = self.Euler_solver(coeff, var, self.dT, self.n2)\n",
        "  \n",
        "\n",
        "  def iterate_Phi(self):\n",
        "    coeff = np.array([self.n0 + self.n1*self.alpha + self.n2*self.beta])\n",
        "    var = np.array([self.Phi])\n",
        "    self.Phi = self.Euler_solver(coeff, var, self.dT, self.Phi)\n",
        "\n",
        "\n",
        "\n",
        "  def Euler_solver(self, coeffs, variables, diff, initial_value): # will return (coeffs.variables)*diff + initial value. Note that . is inner product\n",
        "    return np.dot(coeffs,variables)*diff + initial_value\n",
        "\n",
        "    "
      ],
      "execution_count": 48,
      "outputs": []
    },
    {
      "cell_type": "code",
      "metadata": {
        "id": "JYfvkEjQSoWd"
      },
      "source": [
        "def f(t):\n",
        "  return 1"
      ],
      "execution_count": 49,
      "outputs": []
    },
    {
      "cell_type": "code",
      "metadata": {
        "id": "EUeI-xE-zixq"
      },
      "source": [
        "initial_values = {\n",
        "  \"alpha\" : 32, \n",
        "  \"beta\" : 0.1, \n",
        "  \"T10\" : 0.5, #?\n",
        "  \"T21\" : 5, #?\n",
        "  \"A\" : 2, \n",
        "  \"f\": f,\n",
        "  \"n0\" : 1,\n",
        "  \"n1\" : 0,\n",
        "  \"n2\" : 0,\n",
        "  \"dT\" : 0.001,\n",
        "  \"dZ\" : 0.001,\n",
        "  \"simulationTimeSteps\" : 2000,\n",
        "  \"simulationDepthSteps\" : 2000\n",
        "}"
      ],
      "execution_count": 60,
      "outputs": []
    },
    {
      "cell_type": "code",
      "metadata": {
        "id": "1H2oop7sS33J"
      },
      "source": [
        ""
      ],
      "execution_count": 60,
      "outputs": []
    },
    {
      "cell_type": "code",
      "metadata": {
        "id": "_uJah6GLzlJH"
      },
      "source": [
        "mySA = SA(initial_values, normalized=True)"
      ],
      "execution_count": 61,
      "outputs": []
    },
    {
      "cell_type": "code",
      "metadata": {
        "id": "BU6GBhegXybA"
      },
      "source": [
        ""
      ],
      "execution_count": 61,
      "outputs": []
    },
    {
      "cell_type": "code",
      "metadata": {
        "id": "d9dx8IaYCXvz"
      },
      "source": [
        "n0,n1,n2 = mySA.simulate()"
      ],
      "execution_count": 62,
      "outputs": []
    },
    {
      "cell_type": "code",
      "metadata": {
        "id": "hx1YbEurCbRJ",
        "colab": {
          "base_uri": "https://localhost:8080/",
          "height": 516
        },
        "outputId": "7e6e37d0-1930-4dbe-c317-8ad3d63e0516"
      },
      "source": [
        "fig, a = plt.subplots(2,1, figsize=[5,8])\n",
        "a[0].plot(n0)\n",
        "a[0].set_title(\"Population Density of n0\")\n",
        "a[1].plot(n1)\n",
        "a[1].set_title(\"population Density of n1\")\n"
      ],
      "execution_count": 65,
      "outputs": [
        {
          "output_type": "execute_result",
          "data": {
            "text/plain": [
              "Text(0.5, 1.0, 'population Density of n1')"
            ]
          },
          "metadata": {
            "tags": []
          },
          "execution_count": 65
        },
        {
          "output_type": "display_data",
          "data": {
            "image/png": "[encoded data removed]",
            "text/plain": [
              "<Figure size 360x576 with 2 Axes>"
            ]
          },
          "metadata": {
            "tags": [],
            "needs_background": "light"
          }
        }
      ]
    },
    {
      "cell_type": "code",
      "metadata": {
        "id": "S-FLYsqDVwae"
      },
      "source": [
        ""
      ],
      "execution_count": 65,
      "outputs": []
    },
    {
      "cell_type": "code",
      "metadata": {
        "id": "86seuBBRVG7m"
      },
      "source": [
        ""
      ],
      "execution_count": 36,
      "outputs": []
    },
    {
      "cell_type": "code",
      "metadata": {
        "id": "--tinj5MVITn"
      },
      "source": [
        ""
      ],
      "execution_count": 36,
      "outputs": []
    }
  ]
}