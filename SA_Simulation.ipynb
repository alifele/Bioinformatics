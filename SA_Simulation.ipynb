{
  "nbformat": 4,
  "nbformat_minor": 0,
  "metadata": {
    "colab": {
      "name": "SA Simulation.ipynb",
      "provenance": [],
      "collapsed_sections": [],
      "authorship_tag": "ABX9TyOwRxN//FTsYOpNZaORJX8Q",
      "include_colab_link": true
    },
    "kernelspec": {
      "name": "python3",
      "display_name": "Python 3"
    },
    "language_info": {
      "name": "python"
    }
  },
  "cells": [
    {
      "cell_type": "markdown",
      "metadata": {
        "id": "view-in-github",
        "colab_type": "text"
      },
      "source": [
        "<a href=\"https://colab.research.google.com/github/alifele/Bioinformatics-OpticalCNNwithFourierOptics/blob/master/SA_Simulation.ipynb\" target=\"_parent\"><img src=\"https://colab.research.google.com/assets/colab-badge.svg\" alt=\"Open In Colab\"/></a>"
      ]
    },
    {
      "cell_type": "code",
      "metadata": {
        "id": "gFp_pNqwwsyb"
      },
      "source": [
        "import numpy as np\n",
        "import matplotlib.pyplot as plt"
      ],
      "execution_count": 5,
      "outputs": []
    },
    {
      "cell_type": "code",
      "metadata": {
        "id": "p1616vF5-038"
      },
      "source": [
        ""
      ],
      "execution_count": 5,
      "outputs": []
    },
    {
      "cell_type": "code",
      "metadata": {
        "id": "1zu_Z7o8w0jj"
      },
      "source": [
        "class SA:\n",
        "  def __init__(self, initial_values):\n",
        "    self.alpha = initial_values[\"alpha\"]\n",
        "    self.beta = initial_values[\"beta\"]\n",
        "    self.T10 = initial_values[\"T10\"]\n",
        "    self.T21 = initial_values[\"T21\"]\n",
        "    self.Phi = initial_values[\"Phi\"]\n",
        "\n",
        "    self.n0 = initial_values[\"n0\"]\n",
        "    self.n1 = initial_values[\"n1\"]\n",
        "    self.n2 = initial_values[\"n2\"]\n",
        "\n",
        "    self.n0_temp = 0\n",
        "    self.n1_temp = 0\n",
        "    self.n2_temp = 0\n",
        "\n",
        "    self.dT = initial_values[\"dT\"]\n",
        "    self.dZ = initial_values[\"dZ\"]\n",
        "    self.simulationTimeSteps= initial_values['simulationTimeSteps']\n",
        "    self.simulationDepthSteps= intial_values['simulationDepthSteps']\n",
        "\n",
        "\n",
        "  def simulate(self):\n",
        "    self.iterate_n0()\n",
        "    self.iterate_n1()\n",
        "    self.iterate_n2()\n",
        "    self.update_ns()\n",
        "    self.iterate_Phi()\n",
        "\n",
        "  def update_ns(self):\n",
        "    self.n0 = self.n0_temp\n",
        "    self.n1 = self.n1_temp\n",
        "    self.n2 = self.n2_temp\n",
        "\n",
        "  def iterate_n0(self):\n",
        "    coeff = np.array([self.Phi, self.T10])\n",
        "    var = np.array([self.n0, self.n1])\n",
        "    self.n0_temp = self.Euler_solver(coeff, var, self.dT, self.n0)\n",
        "\n",
        "  def iterate_n1(self):\n",
        "    coeff = np.array([self.Phi, -(self.alpha+self.T10), self.T21])\n",
        "    var = np.array([self.n0, self.n1, self.n2])\n",
        "    self.n1_temp = self.Euler_solver(coeff, var, self.dT, self.n1)\n",
        "\n",
        "  def iterate_n2(self):\n",
        "    coeff = np.array([self.alpha*self.Phi, -self.T21])\n",
        "    var = np.array([self.n0, self.n2])\n",
        "    self.n2_temp = self.Euler_solver(coeff, var, self.dT, self.n2)\n",
        "  \n",
        "\n",
        "  def iterate_Phi(self):\n",
        "    coeff = np.array([self.n0 + self.n1*self.alpha + self.n2*self.beta])\n",
        "    var = np.array([self.Phi])\n",
        "    self.Phi = self.Euler_solver(coeff, var, self.dT, self.Phi)\n",
        "\n",
        "\n",
        "\n",
        "  def Euler_solver(self, coeffs, variables, diff, initial_value): # will return (coeffs.variables)*diff + initial value. Note that . is inner product\n",
        "    return np.dot(coeffs,variables)*diff + initial_value\n",
        "\n",
        "    "
      ],
      "execution_count": 41,
      "outputs": []
    },
    {
      "cell_type": "code",
      "metadata": {
        "id": "EUeI-xE-zixq"
      },
      "source": [
        "intial_values = {\n",
        "  \"alpha\" : 0.1, #?\n",
        "  \"beta\" : 0.1, #?\n",
        "  \"T10\" : 0.1, #?\n",
        "  \"T21\" : 0.1, #?\n",
        "  \"Phi\" : 0.1, #?\n",
        "  \"n0\" : 1,\n",
        "  \"n1\" : 0,\n",
        "  \"n2\" : 0,\n",
        "  \"dT\" : 0.001,\n",
        "  \"dZ\" : 0.001,\n",
        "  \"simulationTimeSteps\" : 1000,\n",
        "  \"simulationDepthSteps\" : 1000\n",
        "}"
      ],
      "execution_count": 42,
      "outputs": []
    },
    {
      "cell_type": "code",
      "metadata": {
        "id": "_uJah6GLzlJH"
      },
      "source": [
        "mySA = SA(intial_values)"
      ],
      "execution_count": 43,
      "outputs": []
    },
    {
      "cell_type": "code",
      "metadata": {
        "id": "d9dx8IaYCXvz"
      },
      "source": [
        "mySA.simulate()"
      ],
      "execution_count": 44,
      "outputs": []
    },
    {
      "cell_type": "code",
      "metadata": {
        "id": "hx1YbEurCbRJ"
      },
      "source": [
        ""
      ],
      "execution_count": null,
      "outputs": []
    }
  ]
}