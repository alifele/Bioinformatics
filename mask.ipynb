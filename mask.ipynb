{
  "nbformat": 4,
  "nbformat_minor": 0,
  "metadata": {
    "colab": {
      "name": "mask.ipynb",
      "provenance": [],
      "authorship_tag": "ABX9TyMJYMyFTR3iy20OB5RpPrtw",
      "include_colab_link": true
    },
    "kernelspec": {
      "name": "python3",
      "display_name": "Python 3"
    }
  },
  "cells": [
    {
      "cell_type": "markdown",
      "metadata": {
        "id": "view-in-github",
        "colab_type": "text"
      },
      "source": [
        "<a href=\"https://colab.research.google.com/github/alifele/Bioinformatics-OpticalCNNwithFourierOptics/blob/master/mask.ipynb\" target=\"_parent\"><img src=\"https://colab.research.google.com/assets/colab-badge.svg\" alt=\"Open In Colab\"/></a>"
      ]
    },
    {
      "cell_type": "code",
      "metadata": {
        "id": "oCzPKRgAojSn"
      },
      "source": [
        "import numpy as np\n",
        "import matplotlib.pyplot as plt"
      ],
      "execution_count": 2,
      "outputs": []
    },
    {
      "cell_type": "code",
      "metadata": {
        "id": "JhmOFEcbstTw"
      },
      "source": [
        "def create_hole(L,hole_size): # L --> 227 for our images \n",
        "  half_L = (227-1)/2\n",
        "  mask = np.zeros((L,L))\n",
        "  for x in range(L):\n",
        "    for y in range(L):\n",
        "      if ((x-half_L)**2 + (y - half_L)**2) < hole_size**2:\n",
        "        mask[y,x] = 1\n",
        "\n",
        "  return mask"
      ],
      "execution_count": 34,
      "outputs": []
    },
    {
      "cell_type": "code",
      "metadata": {
        "id": "YnjY4NIdsFXH"
      },
      "source": [
        "L = 227\n",
        "hole_size = 10\n",
        "mask = create_hole(L, hole_size)"
      ],
      "execution_count": 35,
      "outputs": []
    },
    {
      "cell_type": "code",
      "metadata": {
        "colab": {
          "base_uri": "https://localhost:8080/",
          "height": 282
        },
        "id": "NRVsY5rTtYHE",
        "outputId": "e1ca1a78-5c3c-43fd-93a0-dcc37ad30e6d"
      },
      "source": [
        "plt.contourf(mask)\n",
        "plt.axis('equal')"
      ],
      "execution_count": 37,
      "outputs": [
        {
          "output_type": "execute_result",
          "data": {
            "text/plain": [
              "(0.0, 226.0, 0.0, 226.0)"
            ]
          },
          "metadata": {
            "tags": []
          },
          "execution_count": 37
        },
        {
          "output_type": "display_data",
          "data": {
            "image/png": "[encoded data removed]",
            "text/plain": [
              "<Figure size 432x288 with 1 Axes>"
            ]
          },
          "metadata": {
            "tags": [],
            "needs_background": "light"
          }
        }
      ]
    },
    {
      "cell_type": "code",
      "metadata": {
        "id": "LAM4VXe5tarn"
      },
      "source": [
        ""
      ],
      "execution_count": 20,
      "outputs": []
    }
  ]
}